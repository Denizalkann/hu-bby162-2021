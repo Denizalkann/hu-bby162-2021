{
  "nbformat": 4,
  "nbformat_minor": 0,
  "metadata": {
    "colab": {
      "name": "Adres.ipynb",
      "provenance": [],
      "mount_file_id": "1kx_OZ1HAb_iUnW_b-UUOSz80gkeLOGIP",
      "authorship_tag": "ABX9TyO6dcH+wk2wSqHzbo2UtvCn",
      "include_colab_link": true
    },
    "kernelspec": {
      "name": "python3",
      "display_name": "Python 3"
    },
    "language_info": {
      "name": "python"
    }
  },
  "cells": [
    {
      "cell_type": "markdown",
      "metadata": {
        "id": "view-in-github",
        "colab_type": "text"
      },
      "source": [
        "<a href=\"https://colab.research.google.com/github/Denizalkann/hu-bby162-2021/blob/main/Adres.ipynb\" target=\"_parent\"><img src=\"https://colab.research.google.com/assets/colab-badge.svg\" alt=\"Open In Colab\"/></a>"
      ]
    },
    {
      "cell_type": "code",
      "metadata": {
        "id": "5pF33-KSbWPK",
        "colab": {
          "base_uri": "https://localhost:8080/"
        },
        "outputId": "9f199ed7-450a-4f99-c10f-5ed8f941993e"
      },
      "source": [
        "dosya = \"/content/drive/MyDrive/Colab Notebooks/Adres.txt\"\n",
        "\n",
        "adSoyad = input(\"Adınızı Soyadınızı girin\")\n",
        "eposta = input(\"E-posta adresinizi girin\")\n",
        "\n",
        "f = open(dosya, 'w') \n",
        "f.write(adSoyad + \" I \" + eposta + \"\\n\") \n",
        "f.close()\n",
        "\n",
        "dosya = \"/content/drive/MyDrive/Colab Notebooks/Adres.txt\"\n",
        "\n",
        "f = open(dosya, \"r\") \n",
        "\n",
        "for line in f.readlines():\n",
        "    print(line)\n",
        "\n",
        "f.close()"
      ],
      "execution_count": 2,
      "outputs": [
        {
          "output_type": "stream",
          "text": [
            "Adınızı Soyadınızı girinDeniz Alkan\n",
            "E-posta adresinizi girindenizalkan06@hotmail.com\n",
            "Deniz Alkan I denizalkan06@hotmail.com\n",
            "\n"
          ],
          "name": "stdout"
        }
      ]
    }
  ]
}