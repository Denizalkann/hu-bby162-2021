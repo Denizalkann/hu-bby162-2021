{
  "nbformat": 4,
  "nbformat_minor": 0,
  "metadata": {
    "colab": {
      "name": "Adres.ipynb",
      "provenance": [],
      "mount_file_id": "11lTWwbQ6vx1_UNn3CAGf8g4T1OnmA0Vk",
      "authorship_tag": "ABX9TyNpiOIKmLYncF7Wl1nNFOPy",
      "include_colab_link": true
    },
    "kernelspec": {
      "name": "python3",
      "display_name": "Python 3"
    },
    "language_info": {
      "name": "python"
    }
  },
  "cells": [
    {
      "cell_type": "markdown",
      "metadata": {
        "id": "view-in-github",
        "colab_type": "text"
      },
      "source": [
        "<a href=\"https://colab.research.google.com/github/Denizalkann/hu-bby162-2021/blob/main/Adres.ipynb\" target=\"_parent\"><img src=\"https://colab.research.google.com/assets/colab-badge.svg\" alt=\"Open In Colab\"/></a>"
      ]
    },
    {
      "cell_type": "code",
      "metadata": {
        "colab": {
          "base_uri": "https://localhost:8080/"
        },
        "id": "uVRibM3jgg77",
        "outputId": "a13771fa-67f3-4584-a724-c0e23c85ff70"
      },
      "source": [
        "#dosya okuma\n",
        "\n",
        "drive.mount('/content/drive')\n",
        "dosya =\"/content/drive/My Drive/Colab Notebooks/Adres.txt\"\n",
        "f = open (dosya, \"r\") \n",
        "for line in f.readlines():\n",
        "    print(line)\n",
        "f.close()"
      ],
      "execution_count": 17,
      "outputs": [
        {
          "output_type": "stream",
          "text": [
            "Drive already mounted at /content/drive; to attempt to forcibly remount, call drive.mount(\"/content/drive\", force_remount=True).\n",
            "Deniz Alkan \n",
            "\n",
            " denizalkan06@hotmail.com\n"
          ],
          "name": "stdout"
        }
      ]
    },
    {
      "cell_type": "code",
      "metadata": {
        "colab": {
          "base_uri": "https://localhost:8080/"
        },
        "id": "kGmyXz-BhCOj",
        "outputId": "2b30c439-4098-4029-9127-f62d4bcf7f19"
      },
      "source": [
        "#dosya yazma\n",
        "\n",
        "drive.mount('/content/drive')\n",
        "dosya = \"/content/drive/MyDrive/Colab Notebooks/Adres.txt\"\n",
        "f = open(dosya, 'w') \n",
        "f.write(\"Deniz Alkan \\n denizalkan06@hotmail.com\")\n",
        "f.close()"
      ],
      "execution_count": 18,
      "outputs": [
        {
          "output_type": "stream",
          "text": [
            "Drive already mounted at /content/drive; to attempt to forcibly remount, call drive.mount(\"/content/drive\", force_remount=True).\n"
          ],
          "name": "stdout"
        }
      ]
    }
  ]
}